{
 "cells": [
  {
   "cell_type": "markdown",
   "id": "cffbac18",
   "metadata": {},
   "source": [
    "# 목차\n",
    "- [이미지 크롤링](#Image-Crawling)"
   ]
  },
  {
   "cell_type": "code",
   "execution_count": 1,
   "id": "2fc570a7",
   "metadata": {},
   "outputs": [
    {
     "name": "stdout",
     "output_type": "stream",
     "text": [
      "C:\\Users\\2021090\n"
     ]
    }
   ],
   "source": [
    "import os\n",
    "print(os.getcwd())"
   ]
  },
  {
   "cell_type": "markdown",
   "id": "c8b2068a",
   "metadata": {},
   "source": [
    "# Image Crawling"
   ]
  },
  {
   "cell_type": "code",
   "execution_count": 17,
   "id": "eebf3ae7",
   "metadata": {},
   "outputs": [
    {
     "name": "stdout",
     "output_type": "stream",
     "text": [
      "Process Start\n"
     ]
    }
   ],
   "source": [
    "import time\n",
    "import os\n",
    "import sys\n",
    "\n",
    "# 작업 시작 메시지를 출력합니다.\n",
    "print(\"Process Start\")\n",
    "\n",
    "# 시작 시점의 시간을 기록합니다.\n",
    "start_time = time.time()\n",
    "\n",
    "# 하나로 합칠 파일들이 저장된 폴더 이름을 시스템으로부터 입력받습니다.\n",
    "directory = 'Patent_PDF/'\n",
    "\n",
    "# 폴더의 내용물을 열람해 목록을 생성합니다.\n",
    "filelist = os.listdir(directory)"
   ]
  },
  {
   "cell_type": "code",
   "execution_count": 28,
   "id": "5a47698d",
   "metadata": {},
   "outputs": [
    {
     "name": "stdout",
     "output_type": "stream",
     "text": [
      "[(4, 0, 82, 68, 8, 'DeviceRGB', '', 'IM4', 'DCTDecode'), (6, 0, 2404, 573, 8, 'DeviceRGB', '', 'IM6', 'DCTDecode')]\n",
      "[(4, 0, 82, 68, 8, 'DeviceRGB', '', 'IM4', 'DCTDecode')]\n",
      "[(4, 0, 68, 68, 8, 'DeviceRGB', '', 'IM4', 'DCTDecode')]\n",
      "[(4, 0, 68, 68, 8, 'DeviceRGB', '', 'IM4', 'DCTDecode'), (6, 0, 772, 498, 8, 'Indexed', '', 'IM6', 'DCTDecode')]\n",
      "[(2, 0, 68, 68, 8, 'DeviceRGB', '', 'IM4', 'DCTDecode'), (4, 0, 1142, 807, 8, 'Indexed', '', 'IM6', 'DCTDecode'), (1274, 0, 203, 42, 8, 'DeviceRGB', '', 'Im1274', 'DCTDecode'), (1291, 0, 100, 100, 8, 'DeviceRGB', '', 'ImX1291', 'FlateDecode')]\n",
      "[(2, 0, 68, 68, 8, 'DeviceRGB', '', 'IM4', 'DCTDecode'), (4, 0, 1772, 1184, 8, 'DeviceRGB', '', 'IM6', 'DCTDecode'), (2691, 0, 203, 42, 8, 'DeviceRGB', '', 'Im2691', 'DCTDecode'), (2708, 0, 100, 100, 8, 'DeviceRGB', '', 'ImX2708', 'FlateDecode')]\n",
      "[(4, 0, 68, 68, 8, 'DeviceRGB', '', 'IM4', 'DCTDecode')]\n",
      "[(452, 0, 1259, 1102, 1, 'DeviceGray', '', 'Im0', 'CCITTFaxDecode'), (453, 0, 396, 171, 1, 'DeviceGray', '', 'Im1', 'CCITTFaxDecode')]\n"
     ]
    }
   ],
   "source": [
    "# 필요한 모듈 불러오기\n",
    "import fitz\n",
    "import io\n",
    "from PIL import Image\n",
    "\n",
    "for pdf_idx, pdf in enumerate(filelist):\n",
    "    pdf_file = fitz.open('./' + directory + pdf)\n",
    "    \n",
    "    page = pdf_file[0] # PDF파일의 맨 첫장만 할당\n",
    "    image_list = page.getImageList()\n",
    "    \n",
    "    print(image_list)\n",
    "    \n",
    "    for image_index, img in enumerate(image_list[1:3], start=0): # 0번 index는 특허청 마크, 3번 index는 QR코드\n",
    "        # image의 XREF를 받아옵니다.\n",
    "        xref = img[0]\n",
    "        # Image의 byte를 추출합니다.\n",
    "        base_image = pdf_file.extractImage(xref)\n",
    "        image_bytes = base_image[\"image\"]\n",
    "        # Image extension을 받아옵니다.\n",
    "        image_ext = base_image[\"ext\"]\n",
    "        # PIL로 load합니다.\n",
    "        image = Image.open(io.BytesIO(image_bytes))\n",
    "        # 로컬로 저장합니다\n",
    "        image.save(open(\"extracted_from_PDF/extracted_from_{}_{}.png\".format(pdf_idx + 1, image_index + 1),\"wb\"))"
   ]
  }
 ],
 "metadata": {
  "kernelspec": {
   "display_name": "Python 3",
   "language": "python",
   "name": "python3"
  },
  "language_info": {
   "codemirror_mode": {
    "name": "ipython",
    "version": 3
   },
   "file_extension": ".py",
   "mimetype": "text/x-python",
   "name": "python",
   "nbconvert_exporter": "python",
   "pygments_lexer": "ipython3",
   "version": "3.7.9"
  },
  "varInspector": {
   "cols": {
    "lenName": 16,
    "lenType": 16,
    "lenVar": 40
   },
   "kernels_config": {
    "python": {
     "delete_cmd_postfix": "",
     "delete_cmd_prefix": "del ",
     "library": "var_list.py",
     "varRefreshCmd": "print(var_dic_list())"
    },
    "r": {
     "delete_cmd_postfix": ") ",
     "delete_cmd_prefix": "rm(",
     "library": "var_list.r",
     "varRefreshCmd": "cat(var_dic_list()) "
    }
   },
   "types_to_exclude": [
    "module",
    "function",
    "builtin_function_or_method",
    "instance",
    "_Feature"
   ],
   "window_display": false
  }
 },
 "nbformat": 4,
 "nbformat_minor": 5
}

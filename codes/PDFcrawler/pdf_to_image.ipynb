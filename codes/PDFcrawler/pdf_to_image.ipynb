{
 "cells": [
  {
   "cell_type": "code",
   "execution_count": 1,
   "metadata": {
    "code_folding": []
   },
   "outputs": [],
   "source": [
    "from pdf2image import convert_from_path, convert_from_bytes\n",
    "from pdf2image.exceptions import (\n",
    "    PDFInfoNotInstalledError,\n",
    "    PDFPageCountError,\n",
    "    PDFSyntaxError\n",
    ")\n",
    "import matplotlib.pyplot as plt\n",
    "from PIL import Image as pimg"
   ]
  },
  {
   "cell_type": "code",
   "execution_count": 2,
   "metadata": {},
   "outputs": [
    {
     "name": "stdout",
     "output_type": "stream",
     "text": [
      "0번째 진행중\n",
      "50번째 진행중\n",
      "100번째 진행중\n",
      "150번째 진행중\n",
      "200번째 진행중\n",
      "250번째 진행중\n",
      "300번째 진행중\n",
      "350번째 진행중\n",
      "400번째 진행중\n",
      "450번째 진행중\n",
      "500번째 진행중\n",
      "550번째 진행중\n",
      "600번째 진행중\n",
      "650번째 진행중\n",
      "700번째 진행중\n"
     ]
    }
   ],
   "source": [
    "# 2018년\n",
    "images_2018 = convert_from_path('./baekseo/environment_2018.pdf')\n",
    "\n",
    "for idx ,image in zip(range(len(images_2018)),images_2018):\n",
    "    image.save('./images/environment_2018_{}pg.png'.format(idx+1), format='png')\n",
    "    \n",
    "    if idx % 50 == 0:\n",
    "        print('{}번째 진행중'.format(idx))"
   ]
  },
  {
   "cell_type": "code",
   "execution_count": 2,
   "metadata": {},
   "outputs": [
    {
     "name": "stdout",
     "output_type": "stream",
     "text": [
      "0번째 진행중\n",
      "50번째 진행중\n",
      "100번째 진행중\n",
      "150번째 진행중\n",
      "200번째 진행중\n",
      "250번째 진행중\n",
      "300번째 진행중\n",
      "350번째 진행중\n",
      "400번째 진행중\n",
      "450번째 진행중\n",
      "500번째 진행중\n",
      "550번째 진행중\n",
      "600번째 진행중\n",
      "650번째 진행중\n",
      "700번째 진행중\n",
      "750번째 진행중\n",
      "800번째 진행중\n",
      "850번째 진행중\n"
     ]
    }
   ],
   "source": [
    "# 2019년\n",
    "images_2019 = convert_from_path('./baekseo/environment_2019.pdf')\n",
    "\n",
    "for idx ,image in zip(range(len(images_2019)),images_2019):\n",
    "    image.save('./images/environment_2019_{}pg.png'.format(idx+1), format='png')\n",
    "    \n",
    "    if idx % 50 == 0:\n",
    "        print('{}번째 진행중'.format(idx))"
   ]
  }
 ],
 "metadata": {
  "kernelspec": {
   "display_name": "Python 3",
   "language": "python",
   "name": "python3"
  },
  "language_info": {
   "codemirror_mode": {
    "name": "ipython",
    "version": 3
   },
   "file_extension": ".py",
   "mimetype": "text/x-python",
   "name": "python",
   "nbconvert_exporter": "python",
   "pygments_lexer": "ipython3",
   "version": "3.7.9"
  },
  "toc": {
   "base_numbering": 1,
   "nav_menu": {},
   "number_sections": true,
   "sideBar": true,
   "skip_h1_title": false,
   "title_cell": "Table of Contents",
   "title_sidebar": "Contents",
   "toc_cell": false,
   "toc_position": {},
   "toc_section_display": true,
   "toc_window_display": false
  },
  "varInspector": {
   "cols": {
    "lenName": 16,
    "lenType": 16,
    "lenVar": 40
   },
   "kernels_config": {
    "python": {
     "delete_cmd_postfix": "",
     "delete_cmd_prefix": "del ",
     "library": "var_list.py",
     "varRefreshCmd": "print(var_dic_list())"
    },
    "r": {
     "delete_cmd_postfix": ") ",
     "delete_cmd_prefix": "rm(",
     "library": "var_list.r",
     "varRefreshCmd": "cat(var_dic_list()) "
    }
   },
   "types_to_exclude": [
    "module",
    "function",
    "builtin_function_or_method",
    "instance",
    "_Feature"
   ],
   "window_display": false
  }
 },
 "nbformat": 4,
 "nbformat_minor": 4
}

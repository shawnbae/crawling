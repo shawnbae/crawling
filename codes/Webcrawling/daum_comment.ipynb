#!/usr/bin/env python3
# -*- coding: utf-8 -*-
"""
Created on Thu Jun  4 15:58:52 2020

@author: jisungjang
"""

import pandas as pd
import requests
from bs4 import BeautifulSoup

base_url = 'https://movie.daum.net/moviedb/grade?movieId=40380&type=netizen&page={}'
url = base_url.format('1')

resp = requests.get(url)
soup = BeautifulSoup(resp.text, 'lxml')

movie_comment_total_span = soup.find('span', class_='txt_menu').text[1:-1]
# 총 리뷰어 수가 1000 이 넘어 갈때 생기는 ',' 걸러내기
if ',' in movie_comment_total_span:
    movie_comment_total_span = movie_comment_total_span.replace(',', '')
# 나눌때 딱 떨어지는경우 체크 (딱 떨어지면 페이지 수가 늘어나면 안됨)
if movie_comment_total_span[-1] != '0':
    total_pg_num = int(int(movie_comment_total_span)/10)+1 
else:
    total_pg_num = int(int(movie_comment_total_span)/10)
    
comment_list = []
for pg in range(1, total_pg_num+1):
    page_url = base_url.format(str(pg))
    page_resp = requests.get(page_url)
    page_soup = BeautifulSoup(page_resp.text, 'lxml')
    movie_comment_ul = page_soup.find('ul', class_='list_review')
    movie_comment_li = movie_comment_ul.find_all('li')
    for i in range(len(movie_comment_li)):
        ntz_comment = movie_comment_li[i].find('p', class_='desc_review').text.strip()
        if ntz_comment:
            comment_list.append(ntz_comment)
# 데이터를 모아둔 리스트로 엑셀 파일 생성      
df = pd.DataFrame({'Comments':comment_list})
writer = pd.ExcelWriter('the_notebook.xlsx', engine='xlsxwriter')
df.to_excel(writer, sheet_name='Movie Comments')
writer.save()



{
 "cells": [
  {
   "cell_type": "code",
   "execution_count": 1,
   "metadata": {},
   "outputs": [],
   "source": [
    "from pdf2image import convert_from_path, convert_from_bytes\n",
    "from pdf2image.exceptions import (\n",
    "    PDFInfoNotInstalledError,\n",
    "    PDFPageCountError,\n",
    "    PDFSyntaxError\n",
    ")\n",
    "import matplotlib.pyplot as plt\n",
    "from PIL import Image as pimg"
   ]
  },
  {
   "cell_type": "code",
   "execution_count": 21,
   "metadata": {},
   "outputs": [
    {
     "data": {
      "text/plain": [
       "PosixPath('/Users/soohan')"
      ]
     },
     "execution_count": 21,
     "metadata": {},
     "output_type": "execute_result"
    }
   ],
   "source": [
    "from pathlib import Path\n",
    "\n",
    "pathlib.Path.home()"
   ]
  },
  {
   "cell_type": "code",
   "execution_count": 23,
   "metadata": {},
   "outputs": [],
   "source": [
    "os.chdir(pathlib.Path.home())\n",
    "prescription_list = os.listdir('crawling/projects/prescription/resource')"
   ]
  },
  {
   "cell_type": "code",
   "execution_count": 53,
   "metadata": {},
   "outputs": [
    {
     "data": {
      "text/plain": [
       "'/Users/soohan'"
      ]
     },
     "execution_count": 53,
     "metadata": {},
     "output_type": "execute_result"
    }
   ],
   "source": [
    "os.getcwd()"
   ]
  },
  {
   "cell_type": "code",
   "execution_count": 57,
   "metadata": {},
   "outputs": [
    {
     "name": "stdout",
     "output_type": "stream",
     "text": [
      "1번째 진행 완료\n"
     ]
    }
   ],
   "source": [
    "os.chdir(pathlib.Path.home())\n",
    "prescription_list = os.listdir('crawling/projects/prescription/resource')\n",
    "\n",
    "for prescription in prescription_list:\n",
    "    image_prescription = convert_from_path(os.path.join('crawling/projects/prescription/resource/', prescription))\n",
    "\n",
    "    for idx ,image in zip(range(len(image_prescription)),image_prescription):\n",
    "        image.save('crawling/projects/prescription/images/prescription_{}.png'.format(prescription_list.index(prescription)+1,idx+1), format='png')\n",
    "\n",
    "    print(\"{}번째 진행 완료\".format(prescription_list.index(prescription)+1))"
   ]
  },
  {
   "cell_type": "markdown",
   "metadata": {},
   "source": [
    "# Windows 환경에서 Tesseract 실행하기"
   ]
  },
  {
   "cell_type": "code",
   "execution_count": 9,
   "metadata": {},
   "outputs": [
    {
     "name": "stdout",
     "output_type": "stream",
     "text": [
      " \n",
      "\n",
      "' 세 약 사 별 통 계 - 제 약 사 별\n",
      "\n",
      "[ 조 회 일 ] 2015-12-01~2015-12-31\n",
      "제 약 사 : 우 리 들 제 약 ( 주 )\n",
      "\n",
      "[ 외 / 입 구 분 ] 외 래\n",
      "\n",
      " \n",
      "\n",
      " \n",
      "\n",
      " \n",
      "\n",
      " \n",
      "\n",
      "청 구 코드 명 칭 단 위 처 방 횟 수 _ 단 가 총 사 용 량 총 금 액\n",
      "1308 13449.6 1,252,185\n",
      "\n",
      "670100930 _ 우 리 들 아 세 틸 시 스 테 인 과 립 200000( 내 복 ) 10/ 포 3466 90 13350.6 1,201,554\n",
      "670100960 우 리 들 아 시 클 로 버 정 ( 내 복 ) 1 정 8 469 84 39,396\n",
      "670100950 우 리 들 아 시 클 로 버 연 고 ( 외 용 ) 19 3 749 15 11,235\n",
      "\n",
      "|40-90-87418\n",
      "\n",
      "리 일 3 6 5 고 광 민\n",
      "소 마 혈 소 년 과 . . ” ?-\n",
      "\n",
      "고 성오 20\n",
      "니 건 업 ~ 수 이 청 소 년 과\n",
      "\n",
      " \n",
      "\n"
     ]
    }
   ],
   "source": [
    "from PIL import Image\n",
    "import pytesseract \n",
    "import argparse\n",
    "import cv2\n",
    "import os\n",
    "\n",
    "# # load the example image and convert it to grayscale\n",
    "# image = cv2.imread(\"test.png\")\n",
    "# # write the grayscale image to disk as a temporary file so we can\n",
    "# # apply OCR to it\n",
    "# filename = \"./images/prescription_1.png\"\n",
    "# cv2.imwrite(filename, image)\n",
    "\n",
    "pytesseract.pytesseract.tesseract_cmd = \"C:\\\\Program Files\\\\Tesseract-OCR\\\\tesseract.exe\"\n",
    "\n",
    "\n",
    "text = pytesseract.image_to_string(Image.open(filename), lang=\"kor\")\n",
    "#os.remove(filename)\n",
    "\n",
    "print(text)"
   ]
  },
  {
   "cell_type": "code",
   "execution_count": null,
   "metadata": {},
   "outputs": [],
   "source": []
  }
 ],
 "metadata": {
  "interpreter": {
   "hash": "aee8b7b246df8f9039afb4144a1f6fd8d2ca17a180786b69acc140d282b71a49"
  },
  "kernelspec": {
   "display_name": "Python 3.9.9 64-bit",
   "language": "python",
   "name": "python3"
  },
  "language_info": {
   "codemirror_mode": {
    "name": "ipython",
    "version": 3
   },
   "file_extension": ".py",
   "mimetype": "text/x-python",
   "name": "python",
   "nbconvert_exporter": "python",
   "pygments_lexer": "ipython3",
   "version": "3.9.9"
  },
  "orig_nbformat": 4
 },
 "nbformat": 4,
 "nbformat_minor": 2
}
